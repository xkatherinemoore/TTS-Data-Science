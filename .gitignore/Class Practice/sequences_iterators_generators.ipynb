{
 "cells": [
  {
   "cell_type": "markdown",
   "id": "f14317f3-a8f2-420f-ba1a-d91ec8b104a2",
   "metadata": {},
   "source": [
    "Sequences: generic term for an ordered set; in Python, these are lists, tuples, and strings"
   ]
  },
  {
   "cell_type": "markdown",
   "id": "49046829-06d8-4f55-9cda-a88bb55d0745",
   "metadata": {},
   "source": [
    "Iterator: an object that contains a countable number of elements that can be iterated upon"
   ]
  },
  {
   "cell_type": "markdown",
   "id": "f153e44c-4483-4193-9c3d-593cef16b295",
   "metadata": {},
   "source": [
    "Iterators are objects with a state, so Python remembers its location within the object \n",
    "- Can only go forward; cannot go backward in an iterator object"
   ]
  },
  {
   "cell_type": "code",
   "execution_count": 4,
   "id": "d0566743-35e7-4a59-8d23-498ce4a4af5d",
   "metadata": {},
   "outputs": [],
   "source": [
    "class MyRange:\n",
    "    # constructor function (for all classes)\n",
    "    def __init__(self, start, end):\n",
    "        self.value = start\n",
    "        self.end = end\n",
    "    # Needs to return an iterable object\n",
    "    def __iter__(self):\n",
    "        return self\n",
    "        \n",
    "    # Used to define the StopIteration\n",
    "    def __next__(self):\n",
    "        if self.value >= self.end:\n",
    "            raise StopIteration\n",
    "        current = self.value\n",
    "        self.value += 1\n",
    "        return current\n",
    "\n",
    "nums = MyRange(1, 10)\n",
    "#for num in nums:\n",
    "    #print(num)"
   ]
  },
  {
   "cell_type": "markdown",
   "id": "34e66974-10f8-4702-8288-0d7e5ef53827",
   "metadata": {},
   "source": [
    "Generator: a function that behaves like an iterator "
   ]
  },
  {
   "cell_type": "code",
   "execution_count": 6,
   "id": "74b2ff4d-4b68-41d5-9404-d3ba19d93e49",
   "metadata": {},
   "outputs": [],
   "source": [
    "def my_range(start, end):\n",
    "    current = start\n",
    "    while current < end:\n",
    "        yield current\n",
    "        current += 1\n",
    "\n",
    "nums = my_range(1, 10)\n",
    "#for num in nums:\n",
    "    #print(num)"
   ]
  },
  {
   "cell_type": "markdown",
   "id": "e4e5955c-7fb8-43e2-97c2-33005fab2c45",
   "metadata": {},
   "source": [
    "# Infinite loop if this function was iterated through\n",
    "def my_range(start):\n",
    "    current = start\n",
    "    while True:\n",
    "        yield current\n",
    "        current += 1"
   ]
  }
 ],
 "metadata": {
  "kernelspec": {
   "display_name": "Python 3 (ipykernel)",
   "language": "python",
   "name": "python3"
  },
  "language_info": {
   "codemirror_mode": {
    "name": "ipython",
    "version": 3
   },
   "file_extension": ".py",
   "mimetype": "text/x-python",
   "name": "python",
   "nbconvert_exporter": "python",
   "pygments_lexer": "ipython3",
   "version": "3.11.4"
  }
 },
 "nbformat": 4,
 "nbformat_minor": 5
}
