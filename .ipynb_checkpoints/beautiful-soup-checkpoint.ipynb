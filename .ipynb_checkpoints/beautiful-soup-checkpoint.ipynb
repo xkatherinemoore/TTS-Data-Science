{
 "cells": [
  {
   "cell_type": "code",
   "execution_count": 1,
   "id": "169b130b-8f35-4fac-b6c0-b973030ce18a",
   "metadata": {},
   "outputs": [
    {
     "name": "stdout",
     "output_type": "stream",
     "text": [
      "hello world\n"
     ]
    }
   ],
   "source": [
    "print(\"hello world\");"
   ]
  },
  {
   "cell_type": "code",
   "execution_count": null,
   "id": "89b8391c-c7e9-42ea-b744-c129907ba060",
   "metadata": {},
   "outputs": [],
   "source": [
    "import requests\n",
    "from bs4 import BeautifulSoup\n"
   ]
  },
  {
   "cell_type": "code",
   "execution_count": null,
   "id": "aca0e75d-bb27-417d-8456-f786022660e1",
   "metadata": {},
   "outputs": [],
   "source": [
    "Issues a GET request to the URL and retrieves HTML data"
   ]
  },
  {
   "cell_type": "code",
   "execution_count": 16,
   "id": "5a91295f-93a8-4fec-8e84-9b469295114b",
   "metadata": {},
   "outputs": [],
   "source": [
    "URL = \"https://realpython.github.io/fake-jobs/\"\n",
    "page = requests.get(URL)\n",
    "\n",
    "print(page.text)\n"
   ]
  },
  {
   "cell_type": "markdown",
   "id": "65d23c65-8517-4a84-ada7-5437cac1c7f3",
   "metadata": {},
   "source": [
    "BeautifulSoup is a library for parsing structured data\n",
    "prettify() formats the HTML"
   ]
  },
  {
   "cell_type": "code",
   "execution_count": 17,
   "id": "8abb1e7b-1649-4076-9647-22d8135783b5",
   "metadata": {},
   "outputs": [],
   "source": [
    "soup = BeautifulSoup(page.content, \"html.parser\")\n",
    "print(soup.prettify())\n"
   ]
  },
  {
   "cell_type": "markdown",
   "id": "2c90710f-5fb1-45ed-bf96-314dae0e8004",
   "metadata": {},
   "source": [
    "find() method searches HTML for elements with id"
   ]
  },
  {
   "cell_type": "code",
   "execution_count": 18,
   "id": "3e5d1fa2-f0c6-4bd1-9874-1a7445f2518f",
   "metadata": {},
   "outputs": [],
   "source": [
    "results = soup.find(id=\"ResultsContainer\")\n",
    "print(results.prettify())\n"
   ]
  },
  {
   "cell_type": "markdown",
   "id": "1190d222-d93b-4094-a606-083b8f90870b",
   "metadata": {},
   "source": [
    "find_all() returns a list of results\n",
    "for loop pulls out specific elements and formats the results"
   ]
  },
  {
   "cell_type": "code",
   "execution_count": 20,
   "id": "d3f802d1-968c-4979-954d-caceb205b5f9",
   "metadata": {},
   "outputs": [],
   "source": [
    "job_elements = results.find_all(\"div\", class_=\"card-content\")\n",
    "for job_element in job_elements:\n",
    "    title_element = job_element.find(\"h2\", class_=\"title\")\n",
    "    company_element = job_element.find(\"h3\", class_=\"company\")\n",
    "    location_element = job_element.find(\"p\", class_=\"location\")\n",
    "    print(title_element.text.strip())\n",
    "    print(company_element.text.strip())\n",
    "    print(location_element.text.strip())\n",
    "    print()"
   ]
  },
  {
   "cell_type": "markdown",
   "id": "160d15bb-0d3b-460d-a5e9-eaa7bace308a",
   "metadata": {},
   "source": [
    "lamda function searches for string (\"python\") in results; text.lower() makes the search case-insensitive\n",
    ".parent is used to traverse the HTML elements\n",
    "External for loop finds all anchor elements; second for loops specifically pulls the 2nd href for the job"
   ]
  },
  {
   "cell_type": "code",
   "execution_count": 24,
   "id": "9763c4b4-ac57-4f41-a101-86b099e77474",
   "metadata": {},
   "outputs": [],
   "source": [
    "python_jobs = results.find_all(\n",
    "    \"h2\", string=lambda text: \"python\" in text.lower()\n",
    ")\n",
    "\n",
    "python_job_elements = [\n",
    "    h2_element.parent.parent.parent for h2_element in python_jobs\n",
    "]\n",
    "\n",
    "for job_element in python_job_elements:\n",
    "    links = job_element.find_all(\"a\")\n",
    "    for link in links:\n",
    "        link_url = job_element.find_all(\"a\")[1][\"href\"]\n",
    "        print(f\"Apply here: {link_url}\\n\")"
   ]
  },
  {
   "cell_type": "code",
   "execution_count": null,
   "id": "1f9c64ac-7905-457e-b474-534a89ba7f57",
   "metadata": {},
   "outputs": [],
   "source": []
  }
 ],
 "metadata": {
  "kernelspec": {
   "display_name": "Python 3 (ipykernel)",
   "language": "python",
   "name": "python3"
  },
  "language_info": {
   "codemirror_mode": {
    "name": "ipython",
    "version": 3
   },
   "file_extension": ".py",
   "mimetype": "text/x-python",
   "name": "python",
   "nbconvert_exporter": "python",
   "pygments_lexer": "ipython3",
   "version": "3.11.4"
  }
 },
 "nbformat": 4,
 "nbformat_minor": 5
}
