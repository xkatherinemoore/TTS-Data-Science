{
 "cells": [
  {
   "cell_type": "markdown",
   "id": "fd53b4e3-a242-412f-82be-cb06a811766b",
   "metadata": {},
   "source": [
    "Exercise 1: Guess a number"
   ]
  },
  {
   "cell_type": "code",
   "execution_count": 9,
   "id": "a468311f-f060-46d4-bf92-981d3ee430f1",
   "metadata": {},
   "outputs": [
    {
     "name": "stdout",
     "output_type": "stream",
     "text": [
      "The computer has picked a number\n",
      "Now it's your turn to guess\n"
     ]
    },
    {
     "name": "stdin",
     "output_type": "stream",
     "text": [
      "Please enter a number between 1-9:  1\n"
     ]
    },
    {
     "name": "stdout",
     "output_type": "stream",
     "text": [
      "Nope! Sorry! That's not it! Guess again!\n"
     ]
    },
    {
     "name": "stdin",
     "output_type": "stream",
     "text": [
      "Please enter a number between 1-9:  2\n"
     ]
    },
    {
     "name": "stdout",
     "output_type": "stream",
     "text": [
      "Nope! Sorry! That's not it! Guess again!\n"
     ]
    },
    {
     "name": "stdin",
     "output_type": "stream",
     "text": [
      "Please enter a number between 1-9:  3\n"
     ]
    },
    {
     "name": "stdout",
     "output_type": "stream",
     "text": [
      "That's it! The computer's number was 3\n"
     ]
    }
   ],
   "source": [
    "import random\n",
    "user_num = \"\"\n",
    "\n",
    "# Computer generates random number\n",
    "comp_num = random.randint(1, 9)\n",
    "print(\"The computer has picked a number\")\n",
    "print(\"Now it's your turn to guess\")\n",
    "\n",
    "# Keeps running until user guess the correct number\n",
    "while user_num != comp_num:\n",
    "    # Exits loop when user has entered a valid number between 1-9\n",
    "    validEntry = False\n",
    "    while not validEntry:\n",
    "        user_num = input(\"Please enter a number between 1-9: \")\n",
    "        try:\n",
    "            user_num = int(user_num)\n",
    "        except:\n",
    "            print(\"That is not a valid number\")\n",
    "            continue\n",
    "        else:\n",
    "            if user_num < 0 or user_num > 10:\n",
    "                print(\"The number entered was not between 1-9\")\n",
    "                continue\n",
    "            else:\n",
    "                validEntry = True\n",
    "    # Prints message for wrong answer\n",
    "    if user_num != comp_num:\n",
    "        print(\"Nope! Sorry! That's not it! Guess again!\")\n",
    "\n",
    "#Prints message for correct answer\n",
    "print(\"That's it! The computer's number was\", comp_num)"
   ]
  },
  {
   "cell_type": "markdown",
   "id": "9cf16cbf-1f93-445a-9b89-2626d9bb0971",
   "metadata": {},
   "source": [
    "Exercise 2: Check password validity (RegEx)"
   ]
  },
  {
   "cell_type": "code",
   "execution_count": 16,
   "id": "dfbf70a7-f04a-47ff-8c57-dc8bf514188b",
   "metadata": {},
   "outputs": [
    {
     "name": "stdin",
     "output_type": "stream",
     "text": [
      "Enter a password:  Password123$\n"
     ]
    },
    {
     "name": "stdout",
     "output_type": "stream",
     "text": [
      "That is a valid password!\n"
     ]
    }
   ],
   "source": [
    "import re\n",
    "password = input(\"Enter a password: \")\n",
    "isValid = True\n",
    "if len(password) < 6 or len(password) > 16:\n",
    "    isValid = False\n",
    "    print(\"Password must be between 6-16 characters\")\n",
    "elif not re.search(\"[a-z]\", password):\n",
    "    isValid = False\n",
    "    print(\"Password must contain at least one lowercase letter\")\n",
    "elif not re.search(\"[A-Z]\", password):\n",
    "    isValid = False\n",
    "    print(\"Password must contain at least one uppercase letter\")\n",
    "elif not re.search(\"[0-9]\", password):\n",
    "    isValid = False\n",
    "    print(\"Password must contain at least one number\")\n",
    "elif not re.search(\"[$#@]\", password):\n",
    "    isValid = False\n",
    "    print(\"Password must contain at least one special character [$#@]\")\n",
    "\n",
    "if isValid:\n",
    "    print(\"That is a valid password!\")"
   ]
  },
  {
   "cell_type": "markdown",
   "id": "65ef3534-8d45-47db-980c-040251fecdf1",
   "metadata": {},
   "source": [
    "Exercise 3: Get input for 3 ages and determine oldest and youngest"
   ]
  },
  {
   "cell_type": "code",
   "execution_count": 27,
   "id": "ed45b3ba-1422-4096-804e-777c5fcde5b6",
   "metadata": {},
   "outputs": [
    {
     "name": "stdout",
     "output_type": "stream",
     "text": [
      "We are going to compare the ages of three people you know.\n"
     ]
    },
    {
     "name": "stdin",
     "output_type": "stream",
     "text": [
      "What is the name of person 1?  j\n",
      "Please enter their age:  12\n",
      "What is the name of person 2?  k\n",
      "Please enter their age:  13\n",
      "What is the name of person 3?  l\n",
      "Please enter their age:  14\n"
     ]
    },
    {
     "name": "stdout",
     "output_type": "stream",
     "text": [
      "['j', 'k', 'l']\n",
      "[12, 13, 14]\n",
      "It looks like l is the oldest at 14 years old\n",
      "It looks like j is the youngest at 12 years old\n"
     ]
    }
   ],
   "source": [
    "# function to get valid user input for age\n",
    "def get_age():\n",
    "    user_input = \"\"\n",
    "    while not user_input:\n",
    "        user_input = input(\"Please enter their age: \")\n",
    "        try:\n",
    "            user_input = int(user_input)\n",
    "            if user_input <= 0:\n",
    "                raise Exception(\"Ages should be positive\")\n",
    "        except: \n",
    "            print(\"Age is invalid.\")\n",
    "            user_input = \"\"\n",
    "            continue\n",
    "    \n",
    "    return user_input\n",
    "\n",
    "# Asking user for input\n",
    "name = []\n",
    "age = []\n",
    "\n",
    "print(\"We are going to compare the ages of three people you know.\")\n",
    "name.append(input(\"What is the name of person 1? \"))\n",
    "input_age = get_age()\n",
    "age.append(input_age)\n",
    "\n",
    "name.append(input(\"What is the name of person 2? \"))\n",
    "input_age = get_age()\n",
    "age.append(input_age)\n",
    "\n",
    "name.append(input(\"What is the name of person 3? \"))\n",
    "input_age = get_age()\n",
    "age.append(input_age)\n",
    "\n",
    "# Find oldest/youngest and give output\n",
    "oldest_age = max(age)\n",
    "index_max = age.index(oldest_age)\n",
    "oldest_name = name[index_max]\n",
    "\n",
    "youngest_age = min(age)\n",
    "index_min = age.index(youngest_age)\n",
    "youngest_name = name[index_min]\n",
    "\n",
    "print(\"It looks like\", oldest_name, \"is the oldest at\", oldest_age, \"years old\")\n",
    "print(\"It looks like\", youngest_name, \"is the youngest at\", youngest_age, \"years old\")"
   ]
  },
  {
   "cell_type": "markdown",
   "id": "d0016320-0542-41d8-82be-7d744e1d648b",
   "metadata": {},
   "source": [
    "Exercise 4: Check if allowed to sit exam"
   ]
  },
  {
   "cell_type": "code",
   "execution_count": 32,
   "id": "390327cc-512a-4cf3-99c6-f055072d673c",
   "metadata": {},
   "outputs": [
    {
     "name": "stdout",
     "output_type": "stream",
     "text": [
      "To sit an exam, you must have attended at least 75% of classes\n"
     ]
    },
    {
     "name": "stdin",
     "output_type": "stream",
     "text": [
      "How many total classes were there?  12\n",
      "How many classes have you attended?  15\n"
     ]
    },
    {
     "name": "stdout",
     "output_type": "stream",
     "text": [
      "Something was wrong with your input numbers.\n"
     ]
    }
   ],
   "source": [
    "# Program Text and input\n",
    "print(\"To sit an exam, you must have attended at least 75% of classes\")\n",
    "total_class = input(\"How many total classes were there? \")\n",
    "class_attend = input(\"How many classes have you attended? \")\n",
    "\n",
    "try:\n",
    "    total_class = int(total_class)\n",
    "    class_attend = int(class_attend)\n",
    "    if total_class < class_attend:\n",
    "        raise Exception()\n",
    "except: \n",
    "    print(\"Something was wrong with your input numbers.\")\n",
    "else:\n",
    "    attendance_percent = class_attend / total_class\n",
    "    print(\"Your class attendance is:\", format(attendance_percent, '0.2%'))\n",
    "    if attendance_percent < 0.75:\n",
    "        print(\"You did not attend enough classes to take the exam.\")\n",
    "    else:\n",
    "        print(\"You can take the exam!\")"
   ]
  },
  {
   "cell_type": "markdown",
   "id": "d5b8ad39-3843-4917-80de-520e211ee538",
   "metadata": {},
   "source": [
    "Exercise 5: Weird or Not Weird number from user input"
   ]
  },
  {
   "cell_type": "code",
   "execution_count": null,
   "id": "aa89f15a-2bb4-4cbe-aa76-37d77674a307",
   "metadata": {},
   "outputs": [],
   "source": [
    "n = input(\"Please enter a number. \")\n",
    "try:\n",
    "    n = int(n)\n",
    "except:\n",
    "    print(\"You did not enter a number.\")\n",
    "else:\n",
    "    if n % 2 != 0:\n",
    "        print(\"Weird!\")\n",
    "    elif n >=2 and n <= 5:\n",
    "        print(\"Not Weird!\")\n",
    "    elif n >= 6 and n <= 20:\n",
    "        print(\"Weird!\")\n",
    "    elif n > 20:\n",
    "    print(\"Not Weird!\")"
   ]
  }
 ],
 "metadata": {
  "kernelspec": {
   "display_name": "Python 3 (ipykernel)",
   "language": "python",
   "name": "python3"
  },
  "language_info": {
   "codemirror_mode": {
    "name": "ipython",
    "version": 3
   },
   "file_extension": ".py",
   "mimetype": "text/x-python",
   "name": "python",
   "nbconvert_exporter": "python",
   "pygments_lexer": "ipython3",
   "version": "3.11.4"
  }
 },
 "nbformat": 4,
 "nbformat_minor": 5
}
