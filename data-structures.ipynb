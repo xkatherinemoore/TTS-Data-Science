{
 "cells": [
  {
   "cell_type": "markdown",
   "id": "d9eeb221-37ba-454a-b7d1-bc4e1a55120f",
   "metadata": {},
   "source": [
    "Exercise 1: Solve quadratic formula and return results as tuple"
   ]
  },
  {
   "cell_type": "code",
   "execution_count": 10,
   "id": "9b5c38b9-0109-400a-a548-06eb7ab657d5",
   "metadata": {},
   "outputs": [
    {
     "name": "stdout",
     "output_type": "stream",
     "text": [
      "(2.0, 1.0)\n",
      "(-1.0, -1.0)\n"
     ]
    }
   ],
   "source": [
    "import math\n",
    "\n",
    "def solve_quadratic(a, b, c):\n",
    "    x_1 = (-b + math.sqrt(b ** 2 - 4 * a * c)) / (2 * a)\n",
    "    x_2 = (-b - math.sqrt(b ** 2 - 4 * a * c)) / (2 * a)\n",
    "    return (x_1, x_2)\n",
    "\n",
    "print(solve_quadratic(1, -3, 2))    # Returns (2.0, 1.0)\n",
    "print(solve_quadratic(1, 2, 1))     # Returns (-1.0, -1.0)"
   ]
  },
  {
   "cell_type": "markdown",
   "id": "46ab3582-f5d2-405f-b058-7d08e04cf182",
   "metadata": {},
   "source": [
    "Exercise 2: Take user input; convert to list, convert input to int; output hash calculation"
   ]
  },
  {
   "cell_type": "code",
   "execution_count": 11,
   "id": "0c1a6c28-9547-441f-a657-dba21335a235",
   "metadata": {},
   "outputs": [
    {
     "name": "stdin",
     "output_type": "stream",
     "text": [
      "Enter a list of numbers, separated by spaces:  1 2 3 4\n"
     ]
    },
    {
     "name": "stdout",
     "output_type": "stream",
     "text": [
      "590899387183067792\n"
     ]
    }
   ],
   "source": [
    "n = input(\"Enter a list of numbers, separated by spaces: \")\n",
    "n_list_strings = n.split(\" \") #make list\n",
    "n_list_int = list(int(i) for i in n_list_strings) #convert to int data type\n",
    "n_tuple = tuple(n_list_int) #make list a tuple\n",
    "print(hash(n_tuple)) #calculate hash and print"
   ]
  },
  {
   "cell_type": "markdown",
   "id": "5286ef51-e26f-4d2b-a133-4214546d22fe",
   "metadata": {},
   "source": [
    "Exercise 3: Take odd-index elements from listOne and even-index Elements from listTwo and add to a new list"
   ]
  },
  {
   "cell_type": "code",
   "execution_count": 16,
   "id": "1322cd05-6d1c-4f31-a2f4-8a80b08b3263",
   "metadata": {},
   "outputs": [
    {
     "name": "stdout",
     "output_type": "stream",
     "text": [
      "[6, 12, 18, 4, 12, 20, 28]\n"
     ]
    }
   ],
   "source": [
    "listOne = [3, 6, 9, 12, 15, 18, 21]\n",
    "listTwo = [4, 8, 12, 16, 20, 24, 28]\n",
    "\n",
    "listThree = list()\n",
    "\n",
    "for i in range(1, len(listOne), 2):\n",
    "    global listThree\n",
    "    listThree.append(listOne[i])\n",
    "for i in range(0, len(listTwo), 2):\n",
    "    global listThree\n",
    "    listThree.append(listTwo[i])\n",
    "\n",
    "print(listThree)"
   ]
  },
  {
   "cell_type": "markdown",
   "id": "7543bb82-240e-4cd2-bfa9-4a4c6b0087af",
   "metadata": {},
   "source": [
    "Exercise 4: Slice list into three equal chunks and reverse each"
   ]
  },
  {
   "cell_type": "code",
   "execution_count": 36,
   "id": "0d5e3bcc-acf8-4d3b-97b9-701b2b935c08",
   "metadata": {},
   "outputs": [
    {
     "name": "stdout",
     "output_type": "stream",
     "text": [
      "[8, 45, 11]\n",
      "[12, 14, 23]\n",
      "[89, 45, 78]\n"
     ]
    }
   ],
   "source": [
    "sampleList = [11, 45, 8, 23, 14, 12, 78, 45, 89]\n",
    "\n",
    "for i in range(0, len(sampleList), 3):\n",
    "    chunkLength = len(sampleList) // 3\n",
    "    chunk = sampleList[i:i+chunkLength]\n",
    "    chunk.reverse()\n",
    "    print(chunk)"
   ]
  },
  {
   "cell_type": "markdown",
   "id": "42d666fe-785a-4e4b-9551-fb8bf18e89e3",
   "metadata": {},
   "source": [
    "Exercise 5: Iterate through list and check against values in dictionary; delete if does not exist"
   ]
  },
  {
   "cell_type": "code",
   "execution_count": 56,
   "id": "6627090d-981d-43f9-aa45-8b8484f0c199",
   "metadata": {},
   "outputs": [
    {
     "name": "stdout",
     "output_type": "stream",
     "text": [
      "[47, 69, 76, 97]\n"
     ]
    }
   ],
   "source": [
    "rollNumber = [47, 64, 69, 37, 76, 83, 95, 97]\n",
    "sampleDict ={'Zach':47, 'Emma':69, 'Kelly':76, 'Jason':97}\n",
    "\n",
    "delete_list = [] \n",
    "\n",
    "for num in rollNumber:\n",
    "    foundMatch = False\n",
    "\n",
    "    for x in sampleDict.values():\n",
    "        if num == x:\n",
    "            foundMatch = True\n",
    "            break        \n",
    "    \n",
    "    if foundMatch == False:\n",
    "        delete_list.append(num)\n",
    "\n",
    "for num in delete_list:\n",
    "    rollNumber.remove(num)\n",
    "\n",
    "print(rollNumber)"
   ]
  },
  {
   "cell_type": "code",
   "execution_count": null,
   "id": "0216c30d-2252-4451-9de6-977c40bb71e4",
   "metadata": {},
   "outputs": [],
   "source": []
  }
 ],
 "metadata": {
  "kernelspec": {
   "display_name": "Python 3 (ipykernel)",
   "language": "python",
   "name": "python3"
  },
  "language_info": {
   "codemirror_mode": {
    "name": "ipython",
    "version": 3
   },
   "file_extension": ".py",
   "mimetype": "text/x-python",
   "name": "python",
   "nbconvert_exporter": "python",
   "pygments_lexer": "ipython3",
   "version": "3.11.4"
  }
 },
 "nbformat": 4,
 "nbformat_minor": 5
}
